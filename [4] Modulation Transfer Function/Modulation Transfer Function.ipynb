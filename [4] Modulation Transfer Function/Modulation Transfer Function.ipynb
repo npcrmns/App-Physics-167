{
 "cells": [
  {
   "cell_type": "markdown",
   "id": "b1a76d0d-eb72-4b0c-94a6-ca9974becf96",
   "metadata": {},
   "source": [
    "# Modulation Transfer Function\n",
    "\n",
    "The modulation transfer function is defined as the FFT of the point spread function. The point spread function is defined as the derivative of the edge spread function. The edge spread function are the values along an edge.\n",
    "\n",
    "Since FT of a function is complex, the MTF should have magnitude and phase response as a function of spatial frequency, similar to transfer functions of control systems. However, it is often sufficient to look at the magnitude response to get a measure of the resolution of the system."
   ]
  },
  {
   "cell_type": "code",
   "execution_count": 1,
   "id": "c7f62ad4-3ac3-4421-ae5e-9682f4a52686",
   "metadata": {},
   "outputs": [],
   "source": [
    "import numpy as np\n",
    "import matplotlib.pyplot as plt\n",
    "from PIL import Image\n",
    "\n",
    "plt.rcParams[\"figure.figsize\"] = (4,4)\n",
    "plt.rcParams[\"savefig.dpi\"] = 300\n",
    "plt.rcParams[\"savefig.bbox\"] = \"tight\"\n",
    "plt.rcParams[\"savefig.pad_inches\"] = 0.1"
   ]
  },
  {
   "cell_type": "code",
   "execution_count": 2,
   "id": "3cb08f0b-80ac-441b-bcd8-142941d5aa16",
   "metadata": {},
   "outputs": [],
   "source": [
    "def batch_import(source_dir):\n",
    "    imgs = []\n",
    "    img_files = glob.glob(str(source_dir) + \"/*.jpg\")\n",
    "    for img in img_files:\n",
    "        samp = cv2.imread(img)\n",
    "        samp = samp[:,:,::-1] # reverse color channels\n",
    "        imgs.append(samp)\n",
    "\n",
    "    return imgs"
   ]
  },
  {
   "cell_type": "code",
   "execution_count": null,
   "id": "4a13234f-4984-4dd7-a883-8eb99876afef",
   "metadata": {},
   "outputs": [],
   "source": []
  }
 ],
 "metadata": {
  "kernelspec": {
   "display_name": "Python 3 (ipykernel)",
   "language": "python",
   "name": "python3"
  },
  "language_info": {
   "codemirror_mode": {
    "name": "ipython",
    "version": 3
   },
   "file_extension": ".py",
   "mimetype": "text/x-python",
   "name": "python",
   "nbconvert_exporter": "python",
   "pygments_lexer": "ipython3",
   "version": "3.10.9"
  }
 },
 "nbformat": 4,
 "nbformat_minor": 5
}
