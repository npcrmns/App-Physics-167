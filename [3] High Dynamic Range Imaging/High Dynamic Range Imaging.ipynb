{
 "cells": [
  {
   "cell_type": "markdown",
   "id": "2da92ded-577d-49e5-8df2-ebc68def92a7",
   "metadata": {},
   "source": [
    "# High Dynamic Range Imaging"
   ]
  },
  {
   "cell_type": "code",
   "execution_count": 3,
   "id": "9d178a40-851c-4047-ad3d-8d17eac40e44",
   "metadata": {},
   "outputs": [],
   "source": [
    "import numpy as np\n",
    "import matplotlib.pyplot as plt\n",
    "import cv2\n",
    "import os"
   ]
  },
  {
   "cell_type": "markdown",
   "id": "1c2a01ce-b7aa-4364-9288-6e5f56c24725",
   "metadata": {},
   "source": [
    "## Load images from a directory"
   ]
  },
  {
   "cell_type": "code",
   "execution_count": null,
   "id": "d20f43d7-94a6-41f8-8450-d700a7f82ffb",
   "metadata": {},
   "outputs": [],
   "source": [
    "def load_img_files(source_dir):\n",
    "    filenames, exposures = [], []\n",
    "    os_dir = open(os.path.join(source_dir, \"imgs.txt\"))\n",
    "    for line in os_dir:\n",
    "        if line[0] == #"
   ]
  }
 ],
 "metadata": {
  "kernelspec": {
   "display_name": "Python 3 (ipykernel)",
   "language": "python",
   "name": "python3"
  },
  "language_info": {
   "codemirror_mode": {
    "name": "ipython",
    "version": 3
   },
   "file_extension": ".py",
   "mimetype": "text/x-python",
   "name": "python",
   "nbconvert_exporter": "python",
   "pygments_lexer": "ipython3",
   "version": "3.11.4"
  }
 },
 "nbformat": 4,
 "nbformat_minor": 5
}
