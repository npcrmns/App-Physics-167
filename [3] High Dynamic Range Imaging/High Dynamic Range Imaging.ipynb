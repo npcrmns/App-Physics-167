{
 "cells": [
  {
   "cell_type": "markdown",
   "id": "2da92ded-577d-49e5-8df2-ebc68def92a7",
   "metadata": {},
   "source": [
    "# High Dynamic Range Imaging"
   ]
  },
  {
   "cell_type": "code",
   "execution_count": 83,
   "id": "9d178a40-851c-4047-ad3d-8d17eac40e44",
   "metadata": {},
   "outputs": [],
   "source": [
    "import numpy as np\n",
    "import matplotlib.pyplot as plt\n",
    "import cv2, glob, fractions\n",
    "from PIL import Image\n",
    "\n",
    "plt.rcParams[\"savefig.dpi\"] = 300\n",
    "plt.rcParams[\"savefig.bbox\"] = \"tight\"\n",
    "plt.rcParams[\"savefig.pad_inches\"] = 0.1"
   ]
  },
  {
   "cell_type": "markdown",
   "id": "1c2a01ce-b7aa-4364-9288-6e5f56c24725",
   "metadata": {},
   "source": [
    "## Load images from a directory"
   ]
  },
  {
   "cell_type": "code",
   "execution_count": 96,
   "id": "bbc16f3e-2ddc-4745-b4d7-c6a89d37f3d7",
   "metadata": {},
   "outputs": [],
   "source": [
    "exposure_times = np.loadtxt(\"Exposure Times.txt\", str)\n",
    "exposure_times_flt = [float(fractions.Fraction(exposure)) for exposure in exposure_times]"
   ]
  },
  {
   "cell_type": "code",
   "execution_count": 103,
   "id": "d20f43d7-94a6-41f8-8450-d700a7f82ffb",
   "metadata": {},
   "outputs": [],
   "source": [
    "def load_img_files(source_dir):\n",
    "    imgs = []\n",
    "    img_files = glob.glob(str(source_dir) + \"/*.jpg\")\n",
    "    for img in img_files:\n",
    "        samp = cv2.imread(img)\n",
    "        samp = samp[:,:,::-1] # reverse color channels\n",
    "        imgs.append(samp)\n",
    "\n",
    "    fig, ax = plt.subplots(5, 7, figsize = (18, 12), tight_layout = True)\n",
    "    ax = ax.flatten()\n",
    "    for (i, img), exposure in zip(enumerate(imgs), exposure_times):\n",
    "        ax[i].imshow(img)\n",
    "        ax[i].set(title = \"{} s\".format(exposure))\n",
    "        ax[i].axis(\"off\")\n",
    "    fig.delaxes(ax[-1])"
   ]
  },
  {
   "cell_type": "code",
   "execution_count": null,
   "id": "465149b4-178d-49ff-b65b-f2d6182d2527",
   "metadata": {},
   "outputs": [],
   "source": [
    "load_img_files(\"HDR Room\")"
   ]
  }
 ],
 "metadata": {
  "kernelspec": {
   "display_name": "Python 3 (ipykernel)",
   "language": "python",
   "name": "python3"
  },
  "language_info": {
   "codemirror_mode": {
    "name": "ipython",
    "version": 3
   },
   "file_extension": ".py",
   "mimetype": "text/x-python",
   "name": "python",
   "nbconvert_exporter": "python",
   "pygments_lexer": "ipython3",
   "version": "3.11.4"
  }
 },
 "nbformat": 4,
 "nbformat_minor": 5
}
