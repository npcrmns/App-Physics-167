{
 "cells": [
  {
   "cell_type": "markdown",
   "id": "2da92ded-577d-49e5-8df2-ebc68def92a7",
   "metadata": {},
   "source": [
    "# High Dynamic Range Imaging"
   ]
  },
  {
   "cell_type": "code",
   "execution_count": 19,
   "id": "9d178a40-851c-4047-ad3d-8d17eac40e44",
   "metadata": {},
   "outputs": [],
   "source": [
    "import numpy as np\n",
    "import matplotlib.pyplot as plt\n",
    "import cv2, glob\n",
    "from PIL import Image\n",
    "\n",
    "plt.rcParams[\"savefig.dpi\"] = 300\n",
    "plt.rcParams[\"savefig.bbox\"] = \"tight\"\n",
    "plt.rcParams[\"savefig.pad_inches\"] = 0.1"
   ]
  },
  {
   "cell_type": "markdown",
   "id": "1c2a01ce-b7aa-4364-9288-6e5f56c24725",
   "metadata": {},
   "source": [
    "## Load images from a directory"
   ]
  },
  {
   "cell_type": "code",
   "execution_count": 24,
   "id": "d20f43d7-94a6-41f8-8450-d700a7f82ffb",
   "metadata": {},
   "outputs": [],
   "source": [
    "def load_img_files(source_dir):\n",
    "    imgs = []\n",
    "    img_files = glob.glob(str(source_dir) + \"/*.jpg\")\n",
    "    for img in img_files:\n",
    "        samp = cv2.imread(img)\n",
    "        samp = samp[:,:,::-1] # reverse color channels\n",
    "        imgs.append(samp)\n",
    "\n",
    "    return imgs"
   ]
  },
  {
   "cell_type": "code",
   "execution_count": 27,
   "id": "b236b0d7-28d0-4181-8c27-0b39b9cb9331",
   "metadata": {},
   "outputs": [
    {
     "ename": "TypeError",
     "evalue": "'NoneType' object is not subscriptable",
     "output_type": "error",
     "traceback": [
      "\u001b[1;31m---------------------------------------------------------------------------\u001b[0m",
      "\u001b[1;31mTypeError\u001b[0m                                 Traceback (most recent call last)",
      "Cell \u001b[1;32mIn[27], line 2\u001b[0m\n\u001b[0;32m      1\u001b[0m room_exposed \u001b[38;5;241m=\u001b[39m load_img_files(\u001b[38;5;124m\"\u001b[39m\u001b[38;5;124mHDR Room\u001b[39m\u001b[38;5;124m\"\u001b[39m)\n\u001b[1;32m----> 2\u001b[0m mug_exposed \u001b[38;5;241m=\u001b[39m load_img_files(\u001b[38;5;124m\"\u001b[39m\u001b[38;5;124mHDR Mug\u001b[39m\u001b[38;5;124m\"\u001b[39m)\n",
      "Cell \u001b[1;32mIn[24], line 6\u001b[0m, in \u001b[0;36mload_img_files\u001b[1;34m(source_dir)\u001b[0m\n\u001b[0;32m      4\u001b[0m \u001b[38;5;28;01mfor\u001b[39;00m img \u001b[38;5;129;01min\u001b[39;00m img_files:\n\u001b[0;32m      5\u001b[0m     samp \u001b[38;5;241m=\u001b[39m cv2\u001b[38;5;241m.\u001b[39mimread(img)\n\u001b[1;32m----> 6\u001b[0m     samp \u001b[38;5;241m=\u001b[39m samp[:,:,::\u001b[38;5;241m-\u001b[39m\u001b[38;5;241m1\u001b[39m] \u001b[38;5;66;03m# reverse color channels\u001b[39;00m\n\u001b[0;32m      7\u001b[0m     imgs\u001b[38;5;241m.\u001b[39mappend(samp)\n\u001b[0;32m      9\u001b[0m \u001b[38;5;28;01mreturn\u001b[39;00m imgs\n",
      "\u001b[1;31mTypeError\u001b[0m: 'NoneType' object is not subscriptable"
     ]
    }
   ],
   "source": [
    "room_exposed = load_img_files(\"HDR Room\")"
   ]
  },
  {
   "cell_type": "code",
   "execution_count": null,
   "id": "465149b4-178d-49ff-b65b-f2d6182d2527",
   "metadata": {},
   "outputs": [],
   "source": []
  }
 ],
 "metadata": {
  "kernelspec": {
   "display_name": "Python 3 (ipykernel)",
   "language": "python",
   "name": "python3"
  },
  "language_info": {
   "codemirror_mode": {
    "name": "ipython",
    "version": 3
   },
   "file_extension": ".py",
   "mimetype": "text/x-python",
   "name": "python",
   "nbconvert_exporter": "python",
   "pygments_lexer": "ipython3",
   "version": "3.11.4"
  }
 },
 "nbformat": 4,
 "nbformat_minor": 5
}
