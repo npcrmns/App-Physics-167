{
 "cells": [
  {
   "cell_type": "markdown",
   "metadata": {},
   "source": [
    "# Camera Calibration"
   ]
  },
  {
   "cell_type": "code",
   "execution_count": 1,
   "metadata": {},
   "outputs": [],
   "source": [
    "import numpy as np\n",
    "import pandas as pd\n",
    "import matplotlib.pyplot as plt\n",
    "from numpy.linalg import inv\n",
    "import cv2 "
   ]
  },
  {
   "cell_type": "markdown",
   "metadata": {},
   "source": [
    "## Preparing the data"
   ]
  },
  {
   "cell_type": "code",
   "execution_count": 2,
   "metadata": {},
   "outputs": [],
   "source": [
    "data = pd.read_csv('data.csv')\n",
    "Q = []\n",
    "p = []\n",
    "x_map = lambda xo, yo, zo, xi : np.array([xo, yo, zo, 1, 0, 0, 0, 0, -(xi*xo), -(xi*yo), -(xi*zo)])\n",
    "y_map = lambda xo, yo, zo, yi : np.array([0, 0, 0, 0, xo, yo,zo, 1, -(yi*xo), -(yi*yo), -(yi*zo)])\n",
    "\n",
    "for i in data.index:\n",
    "    xo = data.loc[i,'xo']\n",
    "    yo = data.loc[i,'yo']\n",
    "    zo = data.loc[i,'zo']\n",
    "    xi = data.loc[i,'xi']\n",
    "    yi = data.loc[i,'yi']\n",
    "    \n",
    "    Q_temp_row1 = x_map(xo, yo, zo, xi)\n",
    "    Q_temp_row2 = y_map(xo, yo, zo, yi)\n",
    "    \n",
    "    Q.append(Q_temp_row1)\n",
    "    Q.append(Q_temp_row2)\n",
    "    p.append(xi)\n",
    "    p.append(yi)\n",
    "    \n",
    "Q = np.array(Q)\n",
    "p = np.array(p)"
   ]
  },
  {
   "cell_type": "markdown",
   "metadata": {},
   "source": [
    "## Solving for $a$"
   ]
  },
  {
   "cell_type": "code",
   "execution_count": 3,
   "metadata": {},
   "outputs": [],
   "source": [
    "a = np.matmul(inv(np.matmul(Q.T, Q)), np.matmul(Q.T, p))\n",
    "a11 = a[0]\n",
    "a12 = a[1]\n",
    "a13 = a[2]\n",
    "a14 = a[3]\n",
    "a21 = a[4]\n",
    "a22 = a[5]\n",
    "a23 = a[6]\n",
    "a24 = a[7]\n",
    "a31 = a[8]\n",
    "a32 = a[9]\n",
    "a33 = a[10]\n",
    "a34 = 1"
   ]
  },
  {
   "cell_type": "markdown",
   "metadata": {},
   "source": [
    "## Testing the accuracy of $a$"
   ]
  },
  {
   "cell_type": "code",
   "execution_count": 4,
   "metadata": {},
   "outputs": [],
   "source": [
    "img = cv2.imread(\"Tsai grid.jpg\")\n",
    "img = cv2.cvtColor(img, cv2.COLOR_BGR2RGB)\n",
    "x_pixels = np.arange(0, img.shape[1], 1)\n",
    "y_pixels = np.arange(0, img.shape[0], 1)\n",
    "X, Y = np.meshgrid(x_pixels, y_pixels)\n",
    "\n",
    "def mark_points(coords):\n",
    "    A = np.zeros(X.shape)\n",
    "    \n",
    "    for i in coords:\n",
    "        R = np.sqrt((X - i[0])**2  + (Y - i[1])**2)\n",
    "        A[10 > R] = 1\n",
    "\n",
    "    return A"
   ]
  },
  {
   "cell_type": "code",
   "execution_count": 5,
   "metadata": {},
   "outputs": [],
   "source": [
    "test = pd.read_csv(\"Data.csv\")\n",
    "predicted_pos = []\n",
    "\n",
    "for i in test.index:\n",
    "    xo = test.loc[i,'xo']\n",
    "    yo = test.loc[i,'yo']\n",
    "    zo = test.loc[i,'zo']\n",
    "    \n",
    "    xi = (a11*xo + a12*yo + a13*zo + a14) / (a31*xo + a32*yo + a33*zo + a34)\n",
    "    yi = (a21*xo + a22*yo + a23*zo + a24) / (a31*xo + a32*yo + a33*zo + a34)\n",
    "\n",
    "    predicted_pos.append([int(xi), int(yi)])\n",
    "    \n",
    "P_test = np.array(predicted_pos)\n",
    "mask = mark_points(P_test)\n",
    "img[mask == 1] = [255, 0, 0]"
   ]
  },
  {
   "cell_type": "code",
   "execution_count": 6,
   "metadata": {},
   "outputs": [
    {
     "data": {
      "text/plain": [
       "[[236, 495],\n",
       " [156, 545],\n",
       " [214, 467],\n",
       " [190, 434],\n",
       " [143, 456],\n",
       " [246, 387],\n",
       " [223, 325],\n",
       " [147, 285],\n",
       " [111, 442],\n",
       " [127, 350],\n",
       " [299, 493],\n",
       " [378, 540],\n",
       " [356, 506],\n",
       " [316, 464],\n",
       " [383, 450],\n",
       " [337, 407],\n",
       " [296, 370],\n",
       " [296, 323],\n",
       " [389, 343],\n",
       " [278, 342]]"
      ]
     },
     "execution_count": 6,
     "metadata": {},
     "output_type": "execute_result"
    }
   ],
   "source": [
    "predicted_pos"
   ]
  }
 ],
 "metadata": {
  "kernelspec": {
   "display_name": "Python 3 (ipykernel)",
   "language": "python",
   "name": "python3"
  },
  "language_info": {
   "codemirror_mode": {
    "name": "ipython",
    "version": 3
   },
   "file_extension": ".py",
   "mimetype": "text/x-python",
   "name": "python",
   "nbconvert_exporter": "python",
   "pygments_lexer": "ipython3",
   "version": "3.10.9"
  }
 },
 "nbformat": 4,
 "nbformat_minor": 4
}
